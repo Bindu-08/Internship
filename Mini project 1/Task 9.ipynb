{
 "cells": [
  {
   "cell_type": "markdown",
   "metadata": {},
   "source": [
    "### Task 9: Instructions\n",
    "### Given the data Semmelweis collected, is it True or False that doctors should wash their hands?"
   ]
  },
  {
   "cell_type": "code",
   "execution_count": 3,
   "metadata": {},
   "outputs": [
    {
     "data": {
      "text/plain": [
       "-0.0839566075118334"
      ]
     },
     "execution_count": 3,
     "metadata": {},
     "output_type": "execute_result"
    }
   ],
   "source": [
    "#Task9\n",
    "import pandas as pd\n",
    "import matplotlib as plt\n",
    "monthly=pd.read_csv(r'C:\\Users\\uppal\\Desktop\\documents\\Data Science Final project\\Dr. Semmelweis and the Discovery of Handwashing\\datasets\\monthly_deaths.csv',parse_dates=[\"date\"])\n",
    "monthly[\"proportion_deaths\"]=monthly[\"deaths\"]/monthly[\"births\"]\n",
    "handwashing_start = pd.to_datetime('1847-06-01')\n",
    "before_washing = monthly[monthly['date']< handwashing_start]\n",
    "after_washing = monthly[monthly['date']>= handwashing_start]\n",
    "before_proportion = before_washing['proportion_deaths']\n",
    "after_proportion = after_washing['proportion_deaths']\n",
    "mean_diff = after_proportion.mean()-before_proportion.mean()\n",
    "mean_diff\n"
   ]
  },
  {
   "cell_type": "code",
   "execution_count": 5,
   "metadata": {},
   "outputs": [],
   "source": [
    "doctors_should_wash_their_hands = True"
   ]
  }
 ],
 "metadata": {
  "kernelspec": {
   "display_name": "Python 3",
   "language": "python",
   "name": "python3"
  },
  "language_info": {
   "codemirror_mode": {
    "name": "ipython",
    "version": 3
   },
   "file_extension": ".py",
   "mimetype": "text/x-python",
   "name": "python",
   "nbconvert_exporter": "python",
   "pygments_lexer": "ipython3",
   "version": "3.7.3"
  }
 },
 "nbformat": 4,
 "nbformat_minor": 2
}
